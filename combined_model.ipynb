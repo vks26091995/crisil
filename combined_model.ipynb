{
 "cells": [
  {
   "cell_type": "code",
   "execution_count": 7,
   "id": "3c488b8a-9fbb-4486-9b34-e1ef605eb6ed",
   "metadata": {},
   "outputs": [],
   "source": [
    "import pandas as pd\n",
    "import numpy as np\n",
    "from sklearn.model_selection import train_test_split\n",
    "from sklearn.preprocessing import LabelEncoder, StandardScaler\n",
    "from sklearn.metrics import accuracy_score\n",
    "from sklearn.ensemble import RandomForestClassifier\n",
    "from sentence_transformers import SentenceTransformer\n",
    "from sklearn.metrics import classification_report"
   ]
  },
  {
   "cell_type": "code",
   "execution_count": 2,
   "id": "d9595d06-7321-43e6-a511-ff0cafe8d3c1",
   "metadata": {},
   "outputs": [],
   "source": [
    "# Load the dataset\n",
    "df = pd.read_excel('Artificial_Data.xlsx')\n",
    "\n",
    "# Separate structured features, text data, and target variable\n",
    "X_structured = df.drop(columns=['RATING_TYPE','Rating', 'string_values'])\n",
    "X_text = df['string_values']\n",
    "y = df['Rating']\n",
    "\n",
    "# Encode target labels\n",
    "label_encoder = LabelEncoder()\n",
    "y_encoded = label_encoder.fit_transform(y)\n",
    "\n",
    "# Scale structured data\n",
    "scaler = StandardScaler()\n",
    "X_structured_scaled = scaler.fit_transform(X_structured)\n"
   ]
  },
  {
   "cell_type": "code",
   "execution_count": 3,
   "id": "1db5d5ef-17b8-4f55-9b25-70cd0a6c1545",
   "metadata": {},
   "outputs": [
    {
     "name": "stdout",
     "output_type": "stream",
     "text": [
      "Text Embeddings Shape: (100, 384)\n"
     ]
    }
   ],
   "source": [
    "# Convert text data to embeddings using Sentence Transformers\n",
    "text_model = SentenceTransformer('sentence-transformers/all-MiniLM-L6-v2')\n",
    "X_text_embeddings = text_model.encode(X_text)\n",
    "\n",
    "print(f\"Text Embeddings Shape: {X_text_embeddings.shape}\")\n"
   ]
  },
  {
   "cell_type": "code",
   "execution_count": 4,
   "id": "94a89d34-fe91-488a-a74b-6d399183e2a2",
   "metadata": {},
   "outputs": [
    {
     "name": "stdout",
     "output_type": "stream",
     "text": [
      "Combined Feature Shape: (100, 535)\n"
     ]
    }
   ],
   "source": [
    "# Combine structured data and text embeddings\n",
    "X_combined = np.hstack((X_structured_scaled, X_text_embeddings))\n",
    "print(f\"Combined Feature Shape: {X_combined.shape}\")\n"
   ]
  },
  {
   "cell_type": "code",
   "execution_count": 5,
   "id": "4744a0f9-5683-42da-9ba7-f191bb903573",
   "metadata": {},
   "outputs": [],
   "source": [
    "X_train, X_test, y_train, y_test = train_test_split(X_combined, y_encoded, test_size=0.2, random_state=42)"
   ]
  },
  {
   "cell_type": "code",
   "execution_count": 6,
   "id": "ad91c3a1-4cc3-4180-9f3a-d7a7f285aca5",
   "metadata": {},
   "outputs": [
    {
     "name": "stdout",
     "output_type": "stream",
     "text": [
      "Combined Model Accuracy: 0.1500\n"
     ]
    }
   ],
   "source": [
    "# Using Random Forest as an example\n",
    "combined_model = RandomForestClassifier(n_estimators=100, random_state=42)\n",
    "combined_model.fit(X_train, y_train)\n",
    "\n",
    "# Predict and evaluate\n",
    "y_pred_combined = combined_model.predict(X_test)\n",
    "accuracy = accuracy_score(y_test, y_pred_combined)\n",
    "\n",
    "print(f\"Combined Model Accuracy: {accuracy:.4f}\")"
   ]
  },
  {
   "cell_type": "code",
   "execution_count": 8,
   "id": "86da72e2-80ab-44f1-9be5-ca5eaecf6fd9",
   "metadata": {},
   "outputs": [
    {
     "name": "stdout",
     "output_type": "stream",
     "text": [
      "Classification Report:\n",
      "               precision    recall  f1-score   support\n",
      "\n",
      "           A       0.00      0.00      0.00         3\n",
      "          A+       0.33      0.33      0.33         3\n",
      "          AA       0.00      0.00      0.00         2\n",
      "         AA+       0.00      0.00      0.00         4\n",
      "         AAA       0.00      0.00      0.00         1\n",
      "          BB       0.00      0.00      0.00         1\n",
      "         BBB       0.50      0.50      0.50         4\n",
      "        BBB+       0.00      0.00      0.00         2\n",
      "\n",
      "    accuracy                           0.15        20\n",
      "   macro avg       0.10      0.10      0.10        20\n",
      "weighted avg       0.15      0.15      0.15        20\n",
      "\n"
     ]
    },
    {
     "name": "stderr",
     "output_type": "stream",
     "text": [
      "C:\\Users\\Viky\\AppData\\Local\\Programs\\Python\\Python310\\lib\\site-packages\\sklearn\\metrics\\_classification.py:1565: UndefinedMetricWarning: Precision is ill-defined and being set to 0.0 in labels with no predicted samples. Use `zero_division` parameter to control this behavior.\n",
      "  _warn_prf(average, modifier, f\"{metric.capitalize()} is\", len(result))\n",
      "C:\\Users\\Viky\\AppData\\Local\\Programs\\Python\\Python310\\lib\\site-packages\\sklearn\\metrics\\_classification.py:1565: UndefinedMetricWarning: Precision is ill-defined and being set to 0.0 in labels with no predicted samples. Use `zero_division` parameter to control this behavior.\n",
      "  _warn_prf(average, modifier, f\"{metric.capitalize()} is\", len(result))\n",
      "C:\\Users\\Viky\\AppData\\Local\\Programs\\Python\\Python310\\lib\\site-packages\\sklearn\\metrics\\_classification.py:1565: UndefinedMetricWarning: Precision is ill-defined and being set to 0.0 in labels with no predicted samples. Use `zero_division` parameter to control this behavior.\n",
      "  _warn_prf(average, modifier, f\"{metric.capitalize()} is\", len(result))\n"
     ]
    }
   ],
   "source": [
    "# Predict using the combined model\n",
    "y_pred_combined = combined_model.predict(X_test)\n",
    "\n",
    "# Generate the classification report\n",
    "report = classification_report(y_test, y_pred_combined, target_names=label_encoder.classes_)\n",
    "print(\"Classification Report:\\n\", report)\n"
   ]
  },
  {
   "cell_type": "code",
   "execution_count": null,
   "id": "230075e1-a2cd-492e-8a2d-b754e8574e75",
   "metadata": {},
   "outputs": [],
   "source": []
  }
 ],
 "metadata": {
  "kernelspec": {
   "display_name": "Python 3 (ipykernel)",
   "language": "python",
   "name": "python3"
  },
  "language_info": {
   "codemirror_mode": {
    "name": "ipython",
    "version": 3
   },
   "file_extension": ".py",
   "mimetype": "text/x-python",
   "name": "python",
   "nbconvert_exporter": "python",
   "pygments_lexer": "ipython3",
   "version": "3.10.11"
  }
 },
 "nbformat": 4,
 "nbformat_minor": 5
}
